{
 "cells": [
  {
   "cell_type": "code",
   "execution_count": 1,
   "metadata": {},
   "outputs": [],
   "source": [
    "# MiniProyecto 4: Optimización de parámetros"
   ]
  },
  {
   "cell_type": "markdown",
   "metadata": {},
   "source": [
    "¡Bienvenidos al cuarto (mini)proyecto de la carrera de Data Science de Acamica! \n",
    "\n",
    "En este proyecto vamos a seguir trabajando (por última vez) con el dataset de propiedades en venta publicadas en el portal [Properati](www.properati.com.ar). El objetivo en este caso es optimizar los parámetros de los algoritmos que usamos en el proyecto pasado.\n",
    "\n",
    "El dataset es el mismo del proyecto 3. Recordemos que las columnas que se agregan son:\n",
    "\n",
    "* `barrios_match`: si coincide el barrio publicado con el geográfico vale 1, si no 0.\n",
    "\n",
    "* `PH`, `apartment`, `house`: variables binarias que indican el tipo de propiedad.\n",
    "\n",
    "* dummies de barrios: variables binarias con 1 o 0 según el barrio.\n",
    "\n",
    "La métrica que vamos a usar para medir es RMSE (raíz del error cuadréatico medio), cuya fórmula es:\n",
    "\n",
    "$$RMSE = \\sqrt{\\frac{\\sum_{t=1}^n (\\hat y_t - y_t)^2}{n}}$$"
   ]
  },
  {
   "cell_type": "markdown",
   "metadata": {},
   "source": [
    "## Pandas - Levantamos el dataset"
   ]
  },
  {
   "cell_type": "code",
   "execution_count": 13,
   "metadata": {},
   "outputs": [],
   "source": [
    "import pandas as pd\n",
    "pd.set_option('display.float_format', lambda x: '%.3f' % x)\n",
    "path_dataset = '../Data/datos_properati_limpios_model.csv'\n",
    "df = pd.read_csv(path_dataset)"
   ]
  },
  {
   "cell_type": "code",
   "execution_count": 14,
   "metadata": {},
   "outputs": [
    {
     "data": {
      "text/plain": [
       "(6376, 59)"
      ]
     },
     "execution_count": 14,
     "metadata": {},
     "output_type": "execute_result"
    }
   ],
   "source": [
    "df.shape"
   ]
  },
  {
   "cell_type": "code",
   "execution_count": 15,
   "metadata": {},
   "outputs": [
    {
     "data": {
      "text/html": [
       "<div>\n",
       "<style scoped>\n",
       "    .dataframe tbody tr th:only-of-type {\n",
       "        vertical-align: middle;\n",
       "    }\n",
       "\n",
       "    .dataframe tbody tr th {\n",
       "        vertical-align: top;\n",
       "    }\n",
       "\n",
       "    .dataframe thead th {\n",
       "        text-align: right;\n",
       "    }\n",
       "</style>\n",
       "<table border=\"1\" class=\"dataframe\">\n",
       "  <thead>\n",
       "    <tr style=\"text-align: right;\">\n",
       "      <th></th>\n",
       "      <th>lat</th>\n",
       "      <th>lon</th>\n",
       "      <th>price_aprox_usd</th>\n",
       "      <th>surface_total_in_m2</th>\n",
       "      <th>surface_covered_in_m2</th>\n",
       "      <th>rooms</th>\n",
       "      <th>barrio_match</th>\n",
       "      <th>PH</th>\n",
       "      <th>apartment</th>\n",
       "      <th>house</th>\n",
       "      <th>...</th>\n",
       "      <th>VILLA LUGANO</th>\n",
       "      <th>VILLA LURO</th>\n",
       "      <th>VILLA ORTUZAR</th>\n",
       "      <th>VILLA PUEYRREDON</th>\n",
       "      <th>VILLA REAL</th>\n",
       "      <th>VILLA RIACHUELO</th>\n",
       "      <th>VILLA SANTA RITA</th>\n",
       "      <th>VILLA SOLDATI</th>\n",
       "      <th>VILLA URQUIZA</th>\n",
       "      <th>outlier_price_m2</th>\n",
       "    </tr>\n",
       "  </thead>\n",
       "  <tbody>\n",
       "    <tr>\n",
       "      <th>0</th>\n",
       "      <td>-34.589</td>\n",
       "      <td>-58.417</td>\n",
       "      <td>170000.000</td>\n",
       "      <td>40.000</td>\n",
       "      <td>38.000</td>\n",
       "      <td>1</td>\n",
       "      <td>1</td>\n",
       "      <td>0</td>\n",
       "      <td>1</td>\n",
       "      <td>0</td>\n",
       "      <td>...</td>\n",
       "      <td>0</td>\n",
       "      <td>0</td>\n",
       "      <td>0</td>\n",
       "      <td>0</td>\n",
       "      <td>0</td>\n",
       "      <td>0</td>\n",
       "      <td>0</td>\n",
       "      <td>0</td>\n",
       "      <td>0</td>\n",
       "      <td>0</td>\n",
       "    </tr>\n",
       "    <tr>\n",
       "      <th>1</th>\n",
       "      <td>-34.591</td>\n",
       "      <td>-58.418</td>\n",
       "      <td>90000.000</td>\n",
       "      <td>27.000</td>\n",
       "      <td>27.000</td>\n",
       "      <td>1</td>\n",
       "      <td>1</td>\n",
       "      <td>0</td>\n",
       "      <td>1</td>\n",
       "      <td>0</td>\n",
       "      <td>...</td>\n",
       "      <td>0</td>\n",
       "      <td>0</td>\n",
       "      <td>0</td>\n",
       "      <td>0</td>\n",
       "      <td>0</td>\n",
       "      <td>0</td>\n",
       "      <td>0</td>\n",
       "      <td>0</td>\n",
       "      <td>0</td>\n",
       "      <td>0</td>\n",
       "    </tr>\n",
       "    <tr>\n",
       "      <th>2</th>\n",
       "      <td>-34.587</td>\n",
       "      <td>-58.437</td>\n",
       "      <td>150000.000</td>\n",
       "      <td>44.000</td>\n",
       "      <td>44.000</td>\n",
       "      <td>1</td>\n",
       "      <td>1</td>\n",
       "      <td>0</td>\n",
       "      <td>1</td>\n",
       "      <td>0</td>\n",
       "      <td>...</td>\n",
       "      <td>0</td>\n",
       "      <td>0</td>\n",
       "      <td>0</td>\n",
       "      <td>0</td>\n",
       "      <td>0</td>\n",
       "      <td>0</td>\n",
       "      <td>0</td>\n",
       "      <td>0</td>\n",
       "      <td>0</td>\n",
       "      <td>0</td>\n",
       "    </tr>\n",
       "    <tr>\n",
       "      <th>3</th>\n",
       "      <td>-34.593</td>\n",
       "      <td>-58.428</td>\n",
       "      <td>154000.000</td>\n",
       "      <td>58.000</td>\n",
       "      <td>58.000</td>\n",
       "      <td>2</td>\n",
       "      <td>1</td>\n",
       "      <td>1</td>\n",
       "      <td>0</td>\n",
       "      <td>0</td>\n",
       "      <td>...</td>\n",
       "      <td>0</td>\n",
       "      <td>0</td>\n",
       "      <td>0</td>\n",
       "      <td>0</td>\n",
       "      <td>0</td>\n",
       "      <td>0</td>\n",
       "      <td>0</td>\n",
       "      <td>0</td>\n",
       "      <td>0</td>\n",
       "      <td>0</td>\n",
       "    </tr>\n",
       "    <tr>\n",
       "      <th>4</th>\n",
       "      <td>-34.593</td>\n",
       "      <td>-58.428</td>\n",
       "      <td>154000.000</td>\n",
       "      <td>58.000</td>\n",
       "      <td>58.000</td>\n",
       "      <td>3</td>\n",
       "      <td>1</td>\n",
       "      <td>1</td>\n",
       "      <td>0</td>\n",
       "      <td>0</td>\n",
       "      <td>...</td>\n",
       "      <td>0</td>\n",
       "      <td>0</td>\n",
       "      <td>0</td>\n",
       "      <td>0</td>\n",
       "      <td>0</td>\n",
       "      <td>0</td>\n",
       "      <td>0</td>\n",
       "      <td>0</td>\n",
       "      <td>0</td>\n",
       "      <td>0</td>\n",
       "    </tr>\n",
       "  </tbody>\n",
       "</table>\n",
       "<p>5 rows × 59 columns</p>\n",
       "</div>"
      ],
      "text/plain": [
       "      lat     lon  price_aprox_usd  surface_total_in_m2  \\\n",
       "0 -34.589 -58.417       170000.000               40.000   \n",
       "1 -34.591 -58.418        90000.000               27.000   \n",
       "2 -34.587 -58.437       150000.000               44.000   \n",
       "3 -34.593 -58.428       154000.000               58.000   \n",
       "4 -34.593 -58.428       154000.000               58.000   \n",
       "\n",
       "   surface_covered_in_m2  rooms  barrio_match  PH  apartment  house  ...  \\\n",
       "0                 38.000      1             1   0          1      0  ...   \n",
       "1                 27.000      1             1   0          1      0  ...   \n",
       "2                 44.000      1             1   0          1      0  ...   \n",
       "3                 58.000      2             1   1          0      0  ...   \n",
       "4                 58.000      3             1   1          0      0  ...   \n",
       "\n",
       "   VILLA LUGANO  VILLA LURO  VILLA ORTUZAR  VILLA PUEYRREDON  VILLA REAL  \\\n",
       "0             0           0              0                 0           0   \n",
       "1             0           0              0                 0           0   \n",
       "2             0           0              0                 0           0   \n",
       "3             0           0              0                 0           0   \n",
       "4             0           0              0                 0           0   \n",
       "\n",
       "   VILLA RIACHUELO  VILLA SANTA RITA  VILLA SOLDATI  VILLA URQUIZA  \\\n",
       "0                0                 0              0              0   \n",
       "1                0                 0              0              0   \n",
       "2                0                 0              0              0   \n",
       "3                0                 0              0              0   \n",
       "4                0                 0              0              0   \n",
       "\n",
       "   outlier_price_m2  \n",
       "0                 0  \n",
       "1                 0  \n",
       "2                 0  \n",
       "3                 0  \n",
       "4                 0  \n",
       "\n",
       "[5 rows x 59 columns]"
      ]
     },
     "execution_count": 15,
     "metadata": {},
     "output_type": "execute_result"
    }
   ],
   "source": [
    "df.head()"
   ]
  },
  {
   "cell_type": "markdown",
   "metadata": {},
   "source": [
    "**Separá** el dataset en entrenamiento (80%) y test (20%) utilizando como target la columna `price_aprox_usd`"
   ]
  },
  {
   "cell_type": "code",
   "execution_count": 46,
   "metadata": {},
   "outputs": [
    {
     "name": "stdout",
     "output_type": "stream",
     "text": [
      "5100 1276\n"
     ]
    }
   ],
   "source": [
    "# Hacé la separación en esta celda\n",
    "import numpy as np\n",
    "np.random.seed(123)\n",
    "from sklearn.model_selection import train_test_split\n",
    "X = df.drop(['price_aprox_usd'], axis=1)\n",
    "y = df['price_aprox_usd']\n",
    "X_train, X_test, y_train, y_test = train_test_split(\n",
    "    X, y, test_size=0.2, random_state=42)\n",
    "\n",
    "print(X_train.shape[0], X_test.shape[0])"
   ]
  },
  {
   "cell_type": "markdown",
   "metadata": {},
   "source": [
    "## Scikit-learn - Entrenamiento"
   ]
  },
  {
   "cell_type": "markdown",
   "metadata": {},
   "source": [
    "Para repasar los parámetros de árboles de decisión en Scikit-learn: \n",
    "\n",
    "http://scikit-learn.org/stable/modules/generated/sklearn.tree.DecisionTreeRegressor.html"
   ]
  },
  {
   "cell_type": "markdown",
   "metadata": {},
   "source": [
    "En primer lugar veamos como hacer cross validation. Para eso necesitamos definir la cantidad de folds, en este caso vamos a usar 5.\n",
    "\n",
    "GridSearchCV nos permite testear a través de un espacio de búsqueda de parámetros la mejor combinación posible dado un estimador.\n",
    "\n",
    "Por ejemplo, en este caso probamos la profundidad máxima y la máxima cantidad de features para hacer los split. Ambos entre 1 y 5.\n",
    "Recordemos que para hacer la optimización scikit-learn usa la métrica `neg_mean_squared_error` en lugar de `mean_squared_error`."
   ]
  },
  {
   "cell_type": "markdown",
   "metadata": {},
   "source": [
    "**Creá** una variable `param_grid` con valores del 1 al 5 para los atributos `max_depth` y `max_features`. "
   ]
  },
  {
   "cell_type": "code",
   "execution_count": 63,
   "metadata": {},
   "outputs": [],
   "source": [
    "# Creá en esta celda la variable param_grid"
   ]
  },
  {
   "cell_type": "code",
   "execution_count": 64,
   "metadata": {},
   "outputs": [],
   "source": [
    "from sklearn.model_selection import GridSearchCV\n",
    "from sklearn.tree import DecisionTreeRegressor"
   ]
  },
  {
   "cell_type": "code",
   "execution_count": 65,
   "metadata": {},
   "outputs": [],
   "source": [
    "param_grid = {'max_depth': [1,2,3,4,5], 'max_features': [1,2,3,4,5]}"
   ]
  },
  {
   "cell_type": "code",
   "execution_count": 66,
   "metadata": {},
   "outputs": [
    {
     "data": {
      "text/plain": [
       "{'max_depth': [1, 2, 3, 4, 5], 'max_features': [1, 2, 3, 4, 5]}"
      ]
     },
     "execution_count": 66,
     "metadata": {},
     "output_type": "execute_result"
    }
   ],
   "source": [
    "param_grid"
   ]
  },
  {
   "cell_type": "markdown",
   "metadata": {},
   "source": [
    "**Importá** `GridSearchCV` y `DecisionTreeRegressor`.\n",
    "\n",
    "**Creá** una variable `grid_search` y asignale un `GridSearchCV` que recorra el `param_grid` que creaste con el algoritmos `DecisionTreeRegressor` y el un scoring de `neg_mean_squared_error`"
   ]
  },
  {
   "cell_type": "code",
   "execution_count": 67,
   "metadata": {},
   "outputs": [],
   "source": [
    "# Importa y crea un GridSearchCV en esta celda\n",
    "modelo = DecisionTreeRegressor()\n",
    "grid_search = GridSearchCV(modelo, param_grid, cv=5,\n",
    "                           scoring='neg_mean_squared_error', \n",
    "                           return_train_score=True)"
   ]
  },
  {
   "cell_type": "markdown",
   "metadata": {},
   "source": [
    "A continuación, realizá el `fit` del `grid_search` con el conjunto de entrenamiento"
   ]
  },
  {
   "cell_type": "code",
   "execution_count": 68,
   "metadata": {},
   "outputs": [
    {
     "data": {
      "text/plain": [
       "GridSearchCV(cv=5, error_score='raise-deprecating',\n",
       "       estimator=DecisionTreeRegressor(criterion='mse', max_depth=None, max_features=None,\n",
       "           max_leaf_nodes=None, min_impurity_decrease=0.0,\n",
       "           min_impurity_split=None, min_samples_leaf=1,\n",
       "           min_samples_split=2, min_weight_fraction_leaf=0.0,\n",
       "           presort=False, random_state=None, splitter='best'),\n",
       "       fit_params=None, iid='warn', n_jobs=None,\n",
       "       param_grid={'max_depth': [1, 2, 3, 4, 5], 'max_features': [1, 2, 3, 4, 5]},\n",
       "       pre_dispatch='2*n_jobs', refit=True, return_train_score=True,\n",
       "       scoring='neg_mean_squared_error', verbose=0)"
      ]
     },
     "execution_count": 68,
     "metadata": {},
     "output_type": "execute_result"
    }
   ],
   "source": [
    "# Hace el fit de grid search en esta celda // Fit es entrenar el modelo con los x y los Y\n",
    "\n",
    "grid_search.fit(X_train, y_train)"
   ]
  },
  {
   "cell_type": "markdown",
   "metadata": {},
   "source": [
    "Revisemos los resultados. Recordemos que no están expresados en RMSE."
   ]
  },
  {
   "cell_type": "code",
   "execution_count": 69,
   "metadata": {},
   "outputs": [
    {
     "data": {
      "text/plain": [
       "make_scorer(mean_squared_error, greater_is_better=False)"
      ]
     },
     "execution_count": 69,
     "metadata": {},
     "output_type": "execute_result"
    }
   ],
   "source": [
    "grid_search.scorer_"
   ]
  },
  {
   "cell_type": "markdown",
   "metadata": {},
   "source": [
    "**Mostrá** los `grid_scores` obtenidos durante el `grid_search`"
   ]
  },
  {
   "cell_type": "code",
   "execution_count": 70,
   "metadata": {},
   "outputs": [
    {
     "data": {
      "text/plain": [
       "{'max_depth': 5, 'max_features': 4}"
      ]
     },
     "execution_count": 70,
     "metadata": {},
     "output_type": "execute_result"
    }
   ],
   "source": [
    "# Mostrá los grid_scores en esta celda\n",
    "grid_search.best_params_"
   ]
  },
  {
   "cell_type": "code",
   "execution_count": 75,
   "metadata": {},
   "outputs": [
    {
     "data": {
      "text/plain": [
       "DecisionTreeRegressor(criterion='mse', max_depth=5, max_features=4,\n",
       "           max_leaf_nodes=None, min_impurity_decrease=0.0,\n",
       "           min_impurity_split=None, min_samples_leaf=1,\n",
       "           min_samples_split=2, min_weight_fraction_leaf=0.0,\n",
       "           presort=False, random_state=None, splitter='best')"
      ]
     },
     "execution_count": 75,
     "metadata": {},
     "output_type": "execute_result"
    }
   ],
   "source": [
    "grid_search.best_estimator_"
   ]
  },
  {
   "cell_type": "markdown",
   "metadata": {},
   "source": [
    "De esta manera, el valor con mejor resultado (dado el espacio de búsqueda definido) es `max_depth` 3 y `max_features` 3."
   ]
  },
  {
   "cell_type": "markdown",
   "metadata": {},
   "source": [
    "**Mostrá** el mejor score y los mejores parámetros encontrados por `grid_search`"
   ]
  },
  {
   "cell_type": "code",
   "execution_count": 56,
   "metadata": {},
   "outputs": [
    {
     "data": {
      "text/plain": [
       "{'mean_fit_time': array([0.00357499, 0.00341053, 0.00319448, 0.00258193, 0.00299101,\n",
       "        0.00299635, 0.00238819, 0.00319805, 0.0029984 , 0.00319767,\n",
       "        0.00299697, 0.00298281, 0.00299273, 0.00340009, 0.00280156,\n",
       "        0.00279827, 0.00302634, 0.00266042, 0.00328631, 0.00339198,\n",
       "        0.00328617, 0.00299239, 0.0032104 , 0.00299196, 0.00339112]),\n",
       " 'std_fit_time': array([1.01704899e-03, 1.49587562e-03, 3.98537992e-04, 4.92013663e-04,\n",
       "        1.45728176e-06, 1.39792195e-05, 7.86808222e-04, 7.46082427e-04,\n",
       "        1.08833838e-05, 4.08367279e-04, 1.12874517e-05, 6.30462784e-04,\n",
       "        6.31705772e-04, 5.10428955e-04, 3.87276842e-04, 4.01959481e-04,\n",
       "        6.50280020e-05, 4.06471013e-04, 3.84861040e-04, 4.99681023e-04,\n",
       "        3.82785536e-04, 6.23825718e-04, 3.91192642e-04, 2.04925727e-05,\n",
       "        4.88538730e-04]),\n",
       " 'mean_score_time': array([0.00100436, 0.00098634, 0.00040426, 0.00080299, 0.00079312,\n",
       "        0.0003983 , 0.00100422, 0.00059214, 0.00100207, 0.00039401,\n",
       "        0.00099397, 0.00060396, 0.00080671, 0.00040464, 0.00099697,\n",
       "        0.0007926 , 0.00096827, 0.00098796, 0.0006104 , 0.00079203,\n",
       "        0.0002048 , 0.00099468, 0.00098343, 0.00100508, 0.00059834]),\n",
       " 'std_score_time': array([1.34165064e-05, 1.53767970e-05, 4.95215479e-04, 4.01636969e-04,\n",
       "        3.96731914e-04, 4.87822675e-04, 1.34371662e-05, 4.83564453e-04,\n",
       "        1.14212205e-05, 4.82622470e-04, 1.41974210e-05, 4.93238070e-04,\n",
       "        4.03866509e-04, 4.95657613e-04, 2.83678437e-05, 3.96374415e-04,\n",
       "        4.48631044e-05, 2.32119313e-05, 4.98446651e-04, 3.96549575e-04,\n",
       "        4.09603119e-04, 4.98060920e-06, 1.81445154e-05, 8.54935914e-06,\n",
       "        4.88538707e-04]),\n",
       " 'param_max_depth': masked_array(data=[1, 1, 1, 1, 1, 2, 2, 2, 2, 2, 3, 3, 3, 3, 3, 4, 4, 4,\n",
       "                    4, 4, 5, 5, 5, 5, 5],\n",
       "              mask=[False, False, False, False, False, False, False, False,\n",
       "                    False, False, False, False, False, False, False, False,\n",
       "                    False, False, False, False, False, False, False, False,\n",
       "                    False],\n",
       "        fill_value='?',\n",
       "             dtype=object),\n",
       " 'param_max_features': masked_array(data=[1, 2, 3, 4, 5, 1, 2, 3, 4, 5, 1, 2, 3, 4, 5, 1, 2, 3,\n",
       "                    4, 5, 1, 2, 3, 4, 5],\n",
       "              mask=[False, False, False, False, False, False, False, False,\n",
       "                    False, False, False, False, False, False, False, False,\n",
       "                    False, False, False, False, False, False, False, False,\n",
       "                    False],\n",
       "        fill_value='?',\n",
       "             dtype=object),\n",
       " 'params': [{'max_depth': 1, 'max_features': 1},\n",
       "  {'max_depth': 1, 'max_features': 2},\n",
       "  {'max_depth': 1, 'max_features': 3},\n",
       "  {'max_depth': 1, 'max_features': 4},\n",
       "  {'max_depth': 1, 'max_features': 5},\n",
       "  {'max_depth': 2, 'max_features': 1},\n",
       "  {'max_depth': 2, 'max_features': 2},\n",
       "  {'max_depth': 2, 'max_features': 3},\n",
       "  {'max_depth': 2, 'max_features': 4},\n",
       "  {'max_depth': 2, 'max_features': 5},\n",
       "  {'max_depth': 3, 'max_features': 1},\n",
       "  {'max_depth': 3, 'max_features': 2},\n",
       "  {'max_depth': 3, 'max_features': 3},\n",
       "  {'max_depth': 3, 'max_features': 4},\n",
       "  {'max_depth': 3, 'max_features': 5},\n",
       "  {'max_depth': 4, 'max_features': 1},\n",
       "  {'max_depth': 4, 'max_features': 2},\n",
       "  {'max_depth': 4, 'max_features': 3},\n",
       "  {'max_depth': 4, 'max_features': 4},\n",
       "  {'max_depth': 4, 'max_features': 5},\n",
       "  {'max_depth': 5, 'max_features': 1},\n",
       "  {'max_depth': 5, 'max_features': 2},\n",
       "  {'max_depth': 5, 'max_features': 3},\n",
       "  {'max_depth': 5, 'max_features': 4},\n",
       "  {'max_depth': 5, 'max_features': 5}],\n",
       " 'split0_test_score': array([-9.97441086e+08, -9.92552007e+08, -9.94132879e+08, -9.99271969e+08,\n",
       "        -9.95065162e+08, -9.96667113e+08, -6.98604357e+08, -7.02405255e+08,\n",
       "        -9.96188501e+08, -9.85713747e+08, -9.82908715e+08, -9.53915377e+08,\n",
       "        -7.19589628e+08, -6.81184008e+08, -7.47809143e+08, -9.94077199e+08,\n",
       "        -9.58323322e+08, -9.65137666e+08, -7.10318858e+08, -7.20042990e+08,\n",
       "        -9.50202049e+08, -7.02219398e+08, -8.70805226e+08, -9.39546733e+08,\n",
       "        -9.38009644e+08]),\n",
       " 'split1_test_score': array([-9.78211342e+08, -9.87399015e+08, -9.93157871e+08, -7.37635506e+08,\n",
       "        -9.86070142e+08, -9.95845633e+08, -9.71213142e+08, -9.91561109e+08,\n",
       "        -7.31836824e+08, -9.83003075e+08, -9.92284013e+08, -9.66459250e+08,\n",
       "        -9.75606390e+08, -7.40534319e+08, -7.49501982e+08, -9.91717508e+08,\n",
       "        -9.79664811e+08, -7.42844251e+08, -6.96394183e+08, -8.67981111e+08,\n",
       "        -7.39611385e+08, -9.09562039e+08, -6.23050586e+08, -7.15419600e+08,\n",
       "        -8.46999396e+08]),\n",
       " 'split2_test_score': array([-9.34144134e+08, -9.32898809e+08, -9.17436843e+08, -9.19493504e+08,\n",
       "        -9.35566509e+08, -9.33708300e+08, -9.29726211e+08, -9.15729396e+08,\n",
       "        -8.93072955e+08, -8.31444347e+08, -8.58355202e+08, -8.91393134e+08,\n",
       "        -8.92771181e+08, -7.50994564e+08, -8.91247672e+08, -9.05188179e+08,\n",
       "        -8.95759514e+08, -8.03352158e+08, -7.16273040e+08, -8.98380863e+08,\n",
       "        -9.22878480e+08, -8.75662065e+08, -8.53234828e+08, -8.38513246e+08,\n",
       "        -7.54766469e+08]),\n",
       " 'split3_test_score': array([-1.00517938e+09, -1.00260115e+09, -9.96809162e+08, -1.00260115e+09,\n",
       "        -1.00593458e+09, -7.97099480e+08, -1.00466658e+09, -1.00581209e+09,\n",
       "        -9.97687544e+08, -9.15097523e+08, -9.92507241e+08, -7.95254199e+08,\n",
       "        -7.74030399e+08, -7.91296421e+08, -9.92816134e+08, -9.95666050e+08,\n",
       "        -9.85745319e+08, -7.46011059e+08, -7.19493746e+08, -9.88765151e+08,\n",
       "        -9.94569402e+08, -7.02760934e+08, -8.83927817e+08, -9.75581076e+08,\n",
       "        -9.17317207e+08]),\n",
       " 'split4_test_score': array([-9.24101444e+08, -9.24101444e+08, -9.65625386e+08, -9.71492633e+08,\n",
       "        -9.68519006e+08, -9.72642271e+08, -9.71530520e+08, -9.49579301e+08,\n",
       "        -9.55537710e+08, -9.19573293e+08, -9.36971746e+08, -9.75486202e+08,\n",
       "        -9.38231081e+08, -9.29304931e+08, -9.55934365e+08, -9.52864844e+08,\n",
       "        -9.29492944e+08, -7.36760948e+08, -7.26010799e+08, -9.39833293e+08,\n",
       "        -7.06061230e+08, -9.46847863e+08, -6.84139800e+08, -6.32051796e+08,\n",
       "        -8.62914710e+08]),\n",
       " 'mean_test_score': array([-9.67815478e+08, -9.67910484e+08, -9.73432428e+08, -9.26098952e+08,\n",
       "        -9.78231080e+08, -9.39192560e+08, -9.15148163e+08, -9.13017431e+08,\n",
       "        -9.14864707e+08, -9.26966397e+08, -9.52605383e+08, -9.16501632e+08,\n",
       "        -8.60045736e+08, -7.78662849e+08, -8.67461859e+08, -9.67902756e+08,\n",
       "        -9.49797182e+08, -7.98821216e+08, -7.13698125e+08, -8.83000682e+08,\n",
       "        -8.62664509e+08, -8.27410460e+08, -7.83031651e+08, -8.20222490e+08,\n",
       "        -8.64001486e+08]),\n",
       " 'std_test_score': array([3.29438558e+07, 3.26664932e+07, 3.02010891e+07, 9.88226339e+07,\n",
       "        2.46045162e+07, 7.46355124e+07, 1.10850836e+08, 1.09983247e+08,\n",
       "        9.90974890e+07, 5.64116132e+07, 5.14049628e+07, 6.73885866e+07,\n",
       "        9.76368004e+07, 8.31553815e+07, 1.02311435e+08, 3.51633372e+07,\n",
       "        3.34346246e+07, 8.65511424e+07, 1.00266365e+07, 9.10312204e+07,\n",
       "        1.16922284e+08, 1.04453529e+08, 1.07876098e+08, 1.30461468e+08,\n",
       "        6.40972928e+07]),\n",
       " 'rank_test_score': array([21, 23, 24, 16, 25, 18, 14, 12, 13, 17, 20, 15,  7,  2, 10, 22, 19,\n",
       "         4,  1, 11,  8,  6,  3,  5,  9]),\n",
       " 'split0_train_score': array([-9.73888641e+08, -9.70209244e+08, -9.73010731e+08, -9.72933190e+08,\n",
       "        -9.72987134e+08, -9.73322457e+08, -7.21789759e+08, -7.14489643e+08,\n",
       "        -9.70194280e+08, -9.51204199e+08, -9.48918399e+08, -9.38861434e+08,\n",
       "        -7.30639346e+08, -6.90294175e+08, -7.45957633e+08, -9.59955249e+08,\n",
       "        -9.09630299e+08, -9.22097714e+08, -7.04272006e+08, -6.96868268e+08,\n",
       "        -9.09331103e+08, -7.03739365e+08, -8.76528882e+08, -9.06943666e+08,\n",
       "        -8.83846820e+08]),\n",
       " 'split1_train_score': array([-9.55423141e+08, -9.71087060e+08, -9.74197790e+08, -7.39605731e+08,\n",
       "        -9.68436359e+08, -9.71587946e+08, -9.58800921e+08, -9.75472079e+08,\n",
       "        -7.34897778e+08, -9.67474193e+08, -9.68712097e+08, -9.53221112e+08,\n",
       "        -9.47088756e+08, -7.07031492e+08, -7.06957673e+08, -9.68252197e+08,\n",
       "        -9.68466485e+08, -7.37114321e+08, -6.92232763e+08, -8.41919898e+08,\n",
       "        -7.03493449e+08, -8.57479058e+08, -6.04859353e+08, -6.98069924e+08,\n",
       "        -8.17501278e+08]),\n",
       " 'split2_train_score': array([-9.90594832e+08, -9.89608754e+08, -9.69535326e+08, -9.55241282e+08,\n",
       "        -9.85583737e+08, -9.89411471e+08, -9.81961964e+08, -9.71301755e+08,\n",
       "        -9.47184846e+08, -8.85444098e+08, -9.01290474e+08, -9.46785328e+08,\n",
       "        -9.53349003e+08, -7.35452999e+08, -9.47961528e+08, -9.66002730e+08,\n",
       "        -9.19750051e+08, -8.57115766e+08, -6.93281973e+08, -9.35764557e+08,\n",
       "        -9.44406526e+08, -9.22532665e+08, -8.02338504e+08, -8.68962699e+08,\n",
       "        -7.71986127e+08]),\n",
       " 'split3_train_score': array([-9.72951627e+08, -9.71353351e+08, -9.68907162e+08, -9.71353351e+08,\n",
       "        -9.70309813e+08, -7.22919537e+08, -9.70902493e+08, -9.69482077e+08,\n",
       "        -9.68047157e+08, -8.84925224e+08, -9.65916595e+08, -7.18943979e+08,\n",
       "        -7.07608321e+08, -7.75474656e+08, -9.48082529e+08, -9.59698734e+08,\n",
       "        -9.39382454e+08, -7.16670351e+08, -6.75439900e+08, -9.40528766e+08,\n",
       "        -9.39298153e+08, -6.67604278e+08, -8.31897199e+08, -9.25718527e+08,\n",
       "        -8.53082079e+08]),\n",
       " 'split4_train_score': array([-8.85086043e+08, -8.85086043e+08, -9.79268297e+08, -9.79010174e+08,\n",
       "        -9.72868995e+08, -9.81247293e+08, -9.80456772e+08, -9.62225424e+08,\n",
       "        -9.65932491e+08, -9.45409969e+08, -9.46461848e+08, -9.72378517e+08,\n",
       "        -9.29717688e+08, -9.51427777e+08, -9.74247246e+08, -9.51011643e+08,\n",
       "        -9.40828796e+08, -7.23264672e+08, -6.87331531e+08, -9.55210788e+08,\n",
       "        -6.99765629e+08, -9.28932031e+08, -6.49485140e+08, -6.01227362e+08,\n",
       "        -7.97116575e+08]),\n",
       " 'mean_train_score': array([-9.55588857e+08, -9.57468890e+08, -9.72983861e+08, -9.23628746e+08,\n",
       "        -9.74037208e+08, -9.27697741e+08, -9.22782382e+08, -9.18594195e+08,\n",
       "        -9.17251310e+08, -9.26891537e+08, -9.46259883e+08, -9.06038074e+08,\n",
       "        -8.53680623e+08, -7.71936220e+08, -8.64641322e+08, -9.60984110e+08,\n",
       "        -9.35611617e+08, -7.91252565e+08, -6.90511634e+08, -8.74058455e+08,\n",
       "        -8.39258972e+08, -8.16057480e+08, -7.53021816e+08, -8.00184436e+08,\n",
       "        -8.24706576e+08]),\n",
       " 'std_train_score': array([3.69660395e+07, 3.69128616e+07, 3.72774325e+06, 9.23466202e+07,\n",
       "        6.01751927e+06, 1.02584810e+08, 1.00835978e+08, 1.02142165e+08,\n",
       "        9.15443725e+07, 3.48139382e+07, 2.41654484e+07, 9.42010676e+07,\n",
       "        1.10378235e+08, 9.42749299e+07, 1.13901801e+08, 6.00287406e+06,\n",
       "        2.02360999e+07, 8.31555457e+07, 9.35152517e+06, 9.72017442e+07,\n",
       "        1.13017361e+08, 1.09951888e+08, 1.06376140e+08, 1.27982875e+08,\n",
       "        3.97374074e+07])}"
      ]
     },
     "execution_count": 56,
     "metadata": {},
     "output_type": "execute_result"
    }
   ],
   "source": [
    "# Mostrás los resultados en esta celda\n",
    "\n",
    "grid_search.cv_results_"
   ]
  },
  {
   "cell_type": "markdown",
   "metadata": {},
   "source": [
    "Convertimos a RMSE."
   ]
  },
  {
   "cell_type": "code",
   "execution_count": 72,
   "metadata": {},
   "outputs": [],
   "source": [
    "def nmsq2rmse(score):\n",
    "    return np.round(np.sqrt(-score), 2)"
   ]
  },
  {
   "cell_type": "markdown",
   "metadata": {},
   "source": [
    "__Encontrar el mejor modelo para el espacio de búsqueda dado__\n",
    "\n",
    "* `\"min_samples_split\": [2, 10, 20]`\n",
    "* `\"max_depth\": [None, 2, 5, 10, 15]`\n",
    "* `\"min_samples_leaf\": [1, 5, 10, 15]`\n",
    "* `\"max_leaf_nodes\": [None, 5, 10, 20]`"
   ]
  },
  {
   "cell_type": "code",
   "execution_count": 80,
   "metadata": {},
   "outputs": [],
   "source": [
    "param_grid2 = {\"min_samples_split\": [2, 10, 20], \"max_depth\": [None, 2, 5, 10, 15],\"min_samples_leaf\": [1, 5, 10, 15], \"max_leaf_nodes\": [None, 5, 10, 20] }"
   ]
  },
  {
   "cell_type": "code",
   "execution_count": 81,
   "metadata": {},
   "outputs": [
    {
     "data": {
      "text/plain": [
       "{'min_samples_split': [2, 10, 20],\n",
       " 'max_depth': [None, 2, 5, 10, 15],\n",
       " 'min_samples_leaf': [1, 5, 10, 15],\n",
       " 'max_leaf_nodes': [None, 5, 10, 20]}"
      ]
     },
     "execution_count": 81,
     "metadata": {},
     "output_type": "execute_result"
    }
   ],
   "source": [
    "param_grid2"
   ]
  },
  {
   "cell_type": "code",
   "execution_count": 83,
   "metadata": {},
   "outputs": [],
   "source": [
    "modelo2 = DecisionTreeRegressor()\n",
    "grid_search2 = GridSearchCV(modelo, param_grid2, cv=5,\n",
    "                           scoring='neg_mean_squared_error', \n",
    "                           return_train_score=True)"
   ]
  },
  {
   "cell_type": "code",
   "execution_count": 84,
   "metadata": {},
   "outputs": [
    {
     "data": {
      "text/plain": [
       "GridSearchCV(cv=5, error_score='raise-deprecating',\n",
       "       estimator=DecisionTreeRegressor(criterion='mse', max_depth=None, max_features=None,\n",
       "           max_leaf_nodes=None, min_impurity_decrease=0.0,\n",
       "           min_impurity_split=None, min_samples_leaf=1,\n",
       "           min_samples_split=2, min_weight_fraction_leaf=0.0,\n",
       "           presort=False, random_state=None, splitter='best'),\n",
       "       fit_params=None, iid='warn', n_jobs=None,\n",
       "       param_grid={'min_samples_split': [2, 10, 20], 'max_depth': [None, 2, 5, 10, 15], 'min_samples_leaf': [1, 5, 10, 15], 'max_leaf_nodes': [None, 5, 10, 20]},\n",
       "       pre_dispatch='2*n_jobs', refit=True, return_train_score=True,\n",
       "       scoring='neg_mean_squared_error', verbose=0)"
      ]
     },
     "execution_count": 84,
     "metadata": {},
     "output_type": "execute_result"
    }
   ],
   "source": [
    "\n",
    "grid_search2.fit(X_train, y_train)"
   ]
  },
  {
   "cell_type": "code",
   "execution_count": 85,
   "metadata": {},
   "outputs": [
    {
     "data": {
      "text/plain": [
       "{'max_depth': 10,\n",
       " 'max_leaf_nodes': None,\n",
       " 'min_samples_leaf': 15,\n",
       " 'min_samples_split': 2}"
      ]
     },
     "execution_count": 85,
     "metadata": {},
     "output_type": "execute_result"
    }
   ],
   "source": [
    "grid_search2.best_params_"
   ]
  },
  {
   "cell_type": "code",
   "execution_count": 86,
   "metadata": {},
   "outputs": [
    {
     "data": {
      "text/plain": [
       "DecisionTreeRegressor(criterion='mse', max_depth=10, max_features=None,\n",
       "           max_leaf_nodes=None, min_impurity_decrease=0.0,\n",
       "           min_impurity_split=None, min_samples_leaf=15,\n",
       "           min_samples_split=2, min_weight_fraction_leaf=0.0,\n",
       "           presort=False, random_state=None, splitter='best')"
      ]
     },
     "execution_count": 86,
     "metadata": {},
     "output_type": "execute_result"
    }
   ],
   "source": [
    "grid_search2.best_estimator_"
   ]
  },
  {
   "cell_type": "code",
   "execution_count": 90,
   "metadata": {},
   "outputs": [
    {
     "data": {
      "text/plain": [
       "-459407773.74392384"
      ]
     },
     "execution_count": 90,
     "metadata": {},
     "output_type": "execute_result"
    }
   ],
   "source": [
    "grid_search2.best_score_"
   ]
  },
  {
   "cell_type": "code",
   "execution_count": 91,
   "metadata": {},
   "outputs": [],
   "source": [
    "def nmsq2rmse(score):\n",
    "    return np.round(np.sqrt(-score), 2)"
   ]
  },
  {
   "cell_type": "code",
   "execution_count": 93,
   "metadata": {},
   "outputs": [],
   "source": [
    "optimised_decision_tree2 = grid_search2.best_estimator_"
   ]
  },
  {
   "cell_type": "code",
   "execution_count": 108,
   "metadata": {},
   "outputs": [
    {
     "data": {
      "text/plain": [
       "21301.0"
      ]
     },
     "execution_count": 108,
     "metadata": {},
     "output_type": "execute_result"
    }
   ],
   "source": [
    "from sklearn.metrics import mean_squared_error\n",
    "y_opt_pred2 = optimised_decision_tree2.predict(X_test)\n",
    "rmse = np.sqrt(mean_squared_error(y_test, y_opt_pred2))\n",
    "np.round(rmse)"
   ]
  },
  {
   "cell_type": "code",
   "execution_count": 109,
   "metadata": {},
   "outputs": [],
   "source": [
    "val_real2 = pd.Series(y_test.values)  #Series: \n",
    "val_pred2 = pd.Series(y_opt_pred2)"
   ]
  },
  {
   "cell_type": "code",
   "execution_count": 110,
   "metadata": {},
   "outputs": [],
   "source": [
    "predicciones2 = pd.concat([val_real2.rename('Valor real2'),val_pred2.rename('Valor Pred2') ,abs(val_real2-val_pred2).rename('Dif(+/-)')] ,  axis=1)"
   ]
  },
  {
   "cell_type": "code",
   "execution_count": 111,
   "metadata": {},
   "outputs": [
    {
     "data": {
      "text/html": [
       "<div>\n",
       "<style scoped>\n",
       "    .dataframe tbody tr th:only-of-type {\n",
       "        vertical-align: middle;\n",
       "    }\n",
       "\n",
       "    .dataframe tbody tr th {\n",
       "        vertical-align: top;\n",
       "    }\n",
       "\n",
       "    .dataframe thead th {\n",
       "        text-align: right;\n",
       "    }\n",
       "</style>\n",
       "<table border=\"1\" class=\"dataframe\">\n",
       "  <thead>\n",
       "    <tr style=\"text-align: right;\">\n",
       "      <th></th>\n",
       "      <th>Valor real2</th>\n",
       "      <th>Valor Pred2</th>\n",
       "      <th>Dif(+/-)</th>\n",
       "    </tr>\n",
       "  </thead>\n",
       "  <tbody>\n",
       "    <tr>\n",
       "      <th>0</th>\n",
       "      <td>80000.000</td>\n",
       "      <td>103438.660</td>\n",
       "      <td>23438.660</td>\n",
       "    </tr>\n",
       "    <tr>\n",
       "      <th>1</th>\n",
       "      <td>128000.000</td>\n",
       "      <td>135705.882</td>\n",
       "      <td>7705.882</td>\n",
       "    </tr>\n",
       "    <tr>\n",
       "      <th>2</th>\n",
       "      <td>150000.000</td>\n",
       "      <td>156075.759</td>\n",
       "      <td>6075.759</td>\n",
       "    </tr>\n",
       "    <tr>\n",
       "      <th>3</th>\n",
       "      <td>85000.000</td>\n",
       "      <td>102400.991</td>\n",
       "      <td>17400.991</td>\n",
       "    </tr>\n",
       "    <tr>\n",
       "      <th>4</th>\n",
       "      <td>135000.000</td>\n",
       "      <td>135571.622</td>\n",
       "      <td>571.622</td>\n",
       "    </tr>\n",
       "    <tr>\n",
       "      <th>5</th>\n",
       "      <td>135000.000</td>\n",
       "      <td>109560.000</td>\n",
       "      <td>25440.000</td>\n",
       "    </tr>\n",
       "    <tr>\n",
       "      <th>6</th>\n",
       "      <td>68000.000</td>\n",
       "      <td>75181.250</td>\n",
       "      <td>7181.250</td>\n",
       "    </tr>\n",
       "    <tr>\n",
       "      <th>7</th>\n",
       "      <td>110000.000</td>\n",
       "      <td>140444.444</td>\n",
       "      <td>30444.444</td>\n",
       "    </tr>\n",
       "    <tr>\n",
       "      <th>8</th>\n",
       "      <td>134000.000</td>\n",
       "      <td>158431.250</td>\n",
       "      <td>24431.250</td>\n",
       "    </tr>\n",
       "    <tr>\n",
       "      <th>9</th>\n",
       "      <td>110000.000</td>\n",
       "      <td>76701.202</td>\n",
       "      <td>33298.798</td>\n",
       "    </tr>\n",
       "  </tbody>\n",
       "</table>\n",
       "</div>"
      ],
      "text/plain": [
       "   Valor real2  Valor Pred2  Dif(+/-)\n",
       "0    80000.000   103438.660 23438.660\n",
       "1   128000.000   135705.882  7705.882\n",
       "2   150000.000   156075.759  6075.759\n",
       "3    85000.000   102400.991 17400.991\n",
       "4   135000.000   135571.622   571.622\n",
       "5   135000.000   109560.000 25440.000\n",
       "6    68000.000    75181.250  7181.250\n",
       "7   110000.000   140444.444 30444.444\n",
       "8   134000.000   158431.250 24431.250\n",
       "9   110000.000    76701.202 33298.798"
      ]
     },
     "execution_count": 111,
     "metadata": {},
     "output_type": "execute_result"
    }
   ],
   "source": [
    "predicciones2.head(10)"
   ]
  },
  {
   "cell_type": "markdown",
   "metadata": {},
   "source": [
    "Recordemos que `GridSearchCV` tiene como parámetro default `refit=True`. Esto significa que luego de hacer la corrida se ajusta el mejor modelo al conjunto de datos de entrada. De esta manera, se puede predecir directamente usando `best_estimator_`."
   ]
  },
  {
   "cell_type": "code",
   "execution_count": 112,
   "metadata": {},
   "outputs": [],
   "source": [
    "optimised_decision_tree = grid_search.best_estimator_"
   ]
  },
  {
   "cell_type": "markdown",
   "metadata": {},
   "source": [
    "__Evaluemos en testing el desempeño de este modelo.__\n",
    "\n",
    "Como venimos trabajando, el resultado en testing será la medición que usaremos como benchmark para comparar este modelos con otros en el futuro, puesto que no estuvo en contacto con el dataset de test para la calibración."
   ]
  },
  {
   "cell_type": "code",
   "execution_count": 117,
   "metadata": {},
   "outputs": [
    {
     "data": {
      "text/plain": [
       "29900.0"
      ]
     },
     "execution_count": 117,
     "metadata": {},
     "output_type": "execute_result"
    }
   ],
   "source": [
    "from sklearn.metrics import mean_squared_error\n",
    "y_opt_pred = optimised_decision_tree.predict(X_test)\n",
    "rmse = np.sqrt(mean_squared_error(y_test, y_opt_pred))\n",
    "np.round(rmse)"
   ]
  },
  {
   "cell_type": "markdown",
   "metadata": {},
   "source": [
    "Vemos los primeros 10 resultados de la predicción del valor de propiedades."
   ]
  },
  {
   "cell_type": "code",
   "execution_count": 114,
   "metadata": {},
   "outputs": [],
   "source": [
    "val_real = pd.Series(y_test.values)  #Series: \n",
    "val_pred = pd.Series(y_opt_pred)"
   ]
  },
  {
   "cell_type": "code",
   "execution_count": 115,
   "metadata": {},
   "outputs": [],
   "source": [
    "predicciones = pd.concat([val_real.rename('Valor real'),val_pred.rename('Valor Pred') ,abs(val_real-val_pred).rename('Dif(+/-)')] ,  axis=1)"
   ]
  },
  {
   "cell_type": "code",
   "execution_count": 116,
   "metadata": {},
   "outputs": [
    {
     "data": {
      "text/html": [
       "<div>\n",
       "<style scoped>\n",
       "    .dataframe tbody tr th:only-of-type {\n",
       "        vertical-align: middle;\n",
       "    }\n",
       "\n",
       "    .dataframe tbody tr th {\n",
       "        vertical-align: top;\n",
       "    }\n",
       "\n",
       "    .dataframe thead th {\n",
       "        text-align: right;\n",
       "    }\n",
       "</style>\n",
       "<table border=\"1\" class=\"dataframe\">\n",
       "  <thead>\n",
       "    <tr style=\"text-align: right;\">\n",
       "      <th></th>\n",
       "      <th>Valor real</th>\n",
       "      <th>Valor Pred</th>\n",
       "      <th>Dif(+/-)</th>\n",
       "    </tr>\n",
       "  </thead>\n",
       "  <tbody>\n",
       "    <tr>\n",
       "      <th>0</th>\n",
       "      <td>80000.000</td>\n",
       "      <td>102739.402</td>\n",
       "      <td>22739.402</td>\n",
       "    </tr>\n",
       "    <tr>\n",
       "      <th>1</th>\n",
       "      <td>128000.000</td>\n",
       "      <td>128915.706</td>\n",
       "      <td>915.706</td>\n",
       "    </tr>\n",
       "    <tr>\n",
       "      <th>2</th>\n",
       "      <td>150000.000</td>\n",
       "      <td>128915.706</td>\n",
       "      <td>21084.294</td>\n",
       "    </tr>\n",
       "    <tr>\n",
       "      <th>3</th>\n",
       "      <td>85000.000</td>\n",
       "      <td>102739.402</td>\n",
       "      <td>17739.402</td>\n",
       "    </tr>\n",
       "    <tr>\n",
       "      <th>4</th>\n",
       "      <td>135000.000</td>\n",
       "      <td>128915.706</td>\n",
       "      <td>6084.294</td>\n",
       "    </tr>\n",
       "    <tr>\n",
       "      <th>5</th>\n",
       "      <td>135000.000</td>\n",
       "      <td>132781.250</td>\n",
       "      <td>2218.750</td>\n",
       "    </tr>\n",
       "    <tr>\n",
       "      <th>6</th>\n",
       "      <td>68000.000</td>\n",
       "      <td>114427.136</td>\n",
       "      <td>46427.136</td>\n",
       "    </tr>\n",
       "    <tr>\n",
       "      <th>7</th>\n",
       "      <td>110000.000</td>\n",
       "      <td>135185.886</td>\n",
       "      <td>25185.886</td>\n",
       "    </tr>\n",
       "    <tr>\n",
       "      <th>8</th>\n",
       "      <td>134000.000</td>\n",
       "      <td>114427.136</td>\n",
       "      <td>19572.864</td>\n",
       "    </tr>\n",
       "    <tr>\n",
       "      <th>9</th>\n",
       "      <td>110000.000</td>\n",
       "      <td>102739.402</td>\n",
       "      <td>7260.598</td>\n",
       "    </tr>\n",
       "  </tbody>\n",
       "</table>\n",
       "</div>"
      ],
      "text/plain": [
       "   Valor real  Valor Pred  Dif(+/-)\n",
       "0   80000.000  102739.402 22739.402\n",
       "1  128000.000  128915.706   915.706\n",
       "2  150000.000  128915.706 21084.294\n",
       "3   85000.000  102739.402 17739.402\n",
       "4  135000.000  128915.706  6084.294\n",
       "5  135000.000  132781.250  2218.750\n",
       "6   68000.000  114427.136 46427.136\n",
       "7  110000.000  135185.886 25185.886\n",
       "8  134000.000  114427.136 19572.864\n",
       "9  110000.000  102739.402  7260.598"
      ]
     },
     "execution_count": 116,
     "metadata": {},
     "output_type": "execute_result"
    }
   ],
   "source": [
    "predicciones.head(10)"
   ]
  },
  {
   "cell_type": "code",
   "execution_count": null,
   "metadata": {},
   "outputs": [],
   "source": []
  },
  {
   "cell_type": "code",
   "execution_count": null,
   "metadata": {},
   "outputs": [],
   "source": []
  }
 ],
 "metadata": {
  "kernelspec": {
   "display_name": "Python 3",
   "language": "python",
   "name": "python3"
  },
  "language_info": {
   "codemirror_mode": {
    "name": "ipython",
    "version": 3
   },
   "file_extension": ".py",
   "mimetype": "text/x-python",
   "name": "python",
   "nbconvert_exporter": "python",
   "pygments_lexer": "ipython3",
   "version": "3.7.3"
  }
 },
 "nbformat": 4,
 "nbformat_minor": 2
}
